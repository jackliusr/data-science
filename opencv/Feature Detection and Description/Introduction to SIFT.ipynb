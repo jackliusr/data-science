{
 "cells": [
  {
   "cell_type": "code",
   "execution_count": 2,
   "id": "saving-chest",
   "metadata": {},
   "outputs": [],
   "source": [
    "import numpy as np\n",
    "import cv2 as cv\n",
    "import matplotlib.pyplot as plt\n",
    "from skimage.metrics import structural_similarity as ssim\n",
    "import urllib"
   ]
  },
  {
   "cell_type": "code",
   "execution_count": 3,
   "id": "minimal-chassis",
   "metadata": {},
   "outputs": [],
   "source": [
    "req = urllib.request.urlopen('https://answers.opencv.org/upfiles/1444231051573415.png')\n",
    "arr = np.asarray(bytearray(req.read()), dtype=np.uint8)\n",
    "img = cv.imdecode(arr, cv.IMREAD_ANYCOLOR ) # 'Load it as grayscale'\n",
    "gray = cv.cvtColor(img,cv.COLOR_BGR2GRAY)\n",
    "surf = cv.xfeatures2d.SURF_create(400)\n",
    "kp, des = surf.detectAndCompute(img,None)\n",
    "print(len(kp))\n",
    "print( surf.getHessianThreshold() )\n",
    "surf.setHessianThreshold(50000)\n",
    "kp, des = surf.detectAndCompute(img,None)"
   ]
  },
  {
   "cell_type": "code",
   "execution_count": null,
   "id": "fresh-caribbean",
   "metadata": {},
   "outputs": [],
   "source": []
  }
 ],
 "metadata": {
  "kernelspec": {
   "display_name": "Python 3",
   "language": "python",
   "name": "python3"
  },
  "language_info": {
   "codemirror_mode": {
    "name": "ipython",
    "version": 3
   },
   "file_extension": ".py",
   "mimetype": "text/x-python",
   "name": "python",
   "nbconvert_exporter": "python",
   "pygments_lexer": "ipython3",
   "version": "3.8.6"
  }
 },
 "nbformat": 4,
 "nbformat_minor": 5
}
