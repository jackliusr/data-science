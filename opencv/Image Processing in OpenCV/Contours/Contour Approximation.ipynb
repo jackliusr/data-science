{
 "cells": [
  {
   "cell_type": "code",
   "execution_count": 1,
   "id": "improved-spanish",
   "metadata": {},
   "outputs": [
    {
     "name": "stdout",
     "output_type": "stream",
     "text": [
      "Requirement already satisfied: imutils in /opt/conda/lib/python3.8/site-packages (0.5.4)\r\n"
     ]
    }
   ],
   "source": [
    "! pip3 install imutils"
   ]
  },
  {
   "cell_type": "code",
   "execution_count": 2,
   "id": "serious-danger",
   "metadata": {},
   "outputs": [],
   "source": [
    "import numpy as np\n",
    "import cv2 as cv\n",
    "import matplotlib.pyplot as plt\n",
    "import imutils\n",
    "from skimage.metrics import structural_similarity as ssim"
   ]
  },
  {
   "cell_type": "code",
   "execution_count": 16,
   "id": "mysterious-salem",
   "metadata": {},
   "outputs": [],
   "source": [
    "# https://raw.githubusercontent.com/advcha/OpenCV-Python/master/images/approx.jpg\n",
    "\n",
    "img = imutils.url_to_image(\"https://raw.githubusercontent.com/advcha/OpenCV-Python/master/images/approx.jpg\")\n",
    "img_contours = img.copy()\n",
    "img_gray_contour = cv.cvtColor(img_contours, cv.COLOR_BGR2GRAY);\n",
    "image_gray = img_gray_contour.copy()\n",
    "\n",
    "ret,thresh=cv.threshold(img_gray_contour,127,255,0) #apply threshold to the gray image\n",
    "contours,hierarchy=cv.findContours(thresh,cv.RETR_TREE,cv.CHAIN_APPROX_SIMPLE)   #get contours\n"
   ]
  },
  {
   "cell_type": "code",
   "execution_count": 20,
   "id": "suspected-messenger",
   "metadata": {},
   "outputs": [
    {
     "data": {
      "image/png": "[encoded data removed]",
      "text/plain": [
       "<Figure size 720x216 with 2 Axes>"
      ]
     },
     "metadata": {
      "needs_background": "light"
     },
     "output_type": "display_data"
    }
   ],
   "source": [
    "cnt = contours[0]\n",
    "epsilon=0.01*cv.arcLength(cnt,True)\n",
    "approx=cv.approxPolyDP(cnt,epsilon,True)\n",
    "\n",
    "img_gray_contour=cv.drawContours(img_gray_contour, approx, -1, (255,0,2),10)\n",
    "fig, axs = plt.subplots(1, 2, figsize=(10, 3))\n",
    "for ax, interp,img in zip(axs, ['Original', 'Contour'],[img,img_gray_contour]):\n",
    "    ax.imshow(img)\n",
    "    ax.set_title(interp.capitalize())\n",
    "    ax.grid(False)\n",
    "plt.show()"
   ]
  },
  {
   "cell_type": "code",
   "execution_count": null,
   "id": "floppy-watts",
   "metadata": {},
   "outputs": [],
   "source": []
  }
 ],
 "metadata": {
  "kernelspec": {
   "display_name": "Python 3",
   "language": "python",
   "name": "python3"
  },
  "language_info": {
   "codemirror_mode": {
    "name": "ipython",
    "version": 3
   },
   "file_extension": ".py",
   "mimetype": "text/x-python",
   "name": "python",
   "nbconvert_exporter": "python",
   "pygments_lexer": "ipython3",
   "version": "3.8.6"
  }
 },
 "nbformat": 4,
 "nbformat_minor": 5
}
