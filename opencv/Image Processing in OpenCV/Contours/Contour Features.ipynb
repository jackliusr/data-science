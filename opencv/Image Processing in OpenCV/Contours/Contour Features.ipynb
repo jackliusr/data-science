{
 "cells": [
  {
   "cell_type": "code",
   "execution_count": 1,
   "id": "searching-local",
   "metadata": {},
   "outputs": [
    {
     "name": "stdout",
     "output_type": "stream",
     "text": [
      "Requirement already satisfied: imutils in /opt/conda/lib/python3.8/site-packages (0.5.4)\r\n"
     ]
    }
   ],
   "source": [
    "! pip3 install imutils"
   ]
  },
  {
   "cell_type": "code",
   "execution_count": 1,
   "id": "architectural-furniture",
   "metadata": {},
   "outputs": [],
   "source": [
    "import numpy as np\n",
    "import cv2 as cv\n",
    "import matplotlib.pyplot as plt\n",
    "import imutils"
   ]
  },
  {
   "cell_type": "code",
   "execution_count": 2,
   "id": "extra-democracy",
   "metadata": {},
   "outputs": [
    {
     "name": "stdout",
     "output_type": "stream",
     "text": [
      "{'m00': 2165.5, 'm10': 314934.8333333333, 'm01': 192462.8333333333, 'm20': 46288919.25, 'm11': 27991777.041666664, 'm02': 17602511.25, 'm30': 6873544313.450001, 'm21': 4114462792.8166666, 'm12': 2560235861.15, 'm03': 1652658905.45, 'mu20': 487049.3600464389, 'mu11': 1358.9679218307137, 'mu02': 497019.57847174257, 'mu30': -51016.60843372345, 'mu21': 53869.48957848549, 'mu12': 10948.473868325353, 'mu03': -144041.46595287323, 'nu20': 0.10386198078661484, 'nu11': 0.0002897962953351374, 'nu02': 0.10598810335133499, 'nu30': -0.00023378471501688236, 'nu21': 0.0002468581047595911, 'nu12': 5.017161904248159e-05, 'nu03': -0.0006600731428894141}\n"
     ]
    }
   ],
   "source": [
    "# Moments\n",
    "img = imutils.url_to_image(\"https://media.geeksforgeeks.org/wp-content/uploads/star-1-300x168.jpg\")\n",
    "img = cv.cvtColor(img, cv.COLOR_BGR2GRAY);\n",
    "ret,thresh = cv.threshold(img,127,255,0)\n",
    "contours,hierarchy = cv.findContours(thresh, 1, 2)\n",
    "cnt = contours[0]\n",
    "M = cv.moments(cnt)\n",
    "print( M )"
   ]
  },
  {
   "cell_type": "code",
   "execution_count": 7,
   "id": "digital-escape",
   "metadata": {},
   "outputs": [],
   "source": [
    "cx = int(M['m10']/M['m00'])\n",
    "cy = int(M['m01']/M['m00'])"
   ]
  },
  {
   "cell_type": "code",
   "execution_count": 8,
   "id": "mediterranean-chosen",
   "metadata": {},
   "outputs": [],
   "source": [
    "# Contour Area\n",
    "area = cv.contourArea(cnt)"
   ]
  },
  {
   "cell_type": "code",
   "execution_count": 13,
   "id": "lyric-stack",
   "metadata": {},
   "outputs": [
    {
     "name": "stdout",
     "output_type": "stream",
     "text": [
      "316.4924201965332\n"
     ]
    }
   ],
   "source": [
    "# Contour Perimeter\n",
    "perimeter = cv.arcLength(cnt,True)\n",
    "print(perimeter)"
   ]
  },
  {
   "cell_type": "code",
   "execution_count": 11,
   "id": "adapted-yukon",
   "metadata": {},
   "outputs": [],
   "source": [
    "# Contour Approximation\n",
    "epsilon = 0.1*cv.arcLength(cnt,True)\n",
    "approx = cv.approxPolyDP(cnt,epsilon,True)"
   ]
  },
  {
   "cell_type": "code",
   "execution_count": 14,
   "id": "secure-decade",
   "metadata": {},
   "outputs": [
    {
     "name": "stdout",
     "output_type": "stream",
     "text": [
      "[[[146  46]]\n",
      "\n",
      " [[185  76]]\n",
      "\n",
      " [[185  77]]\n",
      "\n",
      " [[170 123]]\n",
      "\n",
      " [[121 123]]\n",
      "\n",
      " [[105  76]]\n",
      "\n",
      " [[145  46]]]\n"
     ]
    }
   ],
   "source": [
    "# Convex Hull\n",
    "hull = cv.convexHull(cnt)\n",
    "print(hull)"
   ]
  },
  {
   "cell_type": "code",
   "execution_count": 15,
   "id": "laughing-floor",
   "metadata": {},
   "outputs": [
    {
     "name": "stdout",
     "output_type": "stream",
     "text": [
      "False\n"
     ]
    }
   ],
   "source": [
    "# Checking Convexity\n",
    "k = cv.isContourConvex(cnt)\n",
    "print(k)"
   ]
  },
  {
   "cell_type": "code",
   "execution_count": 3,
   "id": "secret-harvard",
   "metadata": {},
   "outputs": [
    {
     "data": {
      "text/plain": [
       "array([[0, 0, 0, ..., 0, 0, 0],\n",
       "       [0, 0, 0, ..., 0, 0, 0],\n",
       "       [0, 0, 0, ..., 0, 0, 0],\n",
       "       ...,\n",
       "       [0, 0, 0, ..., 0, 0, 0],\n",
       "       [0, 0, 0, ..., 0, 0, 0],\n",
       "       [0, 0, 0, ..., 0, 0, 0]], dtype=uint8)"
      ]
     },
     "execution_count": 3,
     "metadata": {},
     "output_type": "execute_result"
    }
   ],
   "source": [
    "# Bounding Rectangle\n",
    "# 7.a. Straight Bounding Rectangle\n",
    "x,y,w,h = cv.boundingRect(cnt)\n",
    "cv.rectangle(img,(x,y),(x+w,y+h),(0,255,0),2)"
   ]
  },
  {
   "cell_type": "code",
   "execution_count": 5,
   "id": "dynamic-harvest",
   "metadata": {},
   "outputs": [
    {
     "data": {
      "image/png": "[encoded data removed]",
      "text/plain": [
       "<Figure size 432x288 with 1 Axes>"
      ]
     },
     "metadata": {
      "needs_background": "light"
     },
     "output_type": "display_data"
    }
   ],
   "source": [
    "# 7.b. Rotated Rectangle\n",
    "rect = cv.minAreaRect(cnt)\n",
    "box = cv.boxPoints(rect)\n",
    "box = np.int0(box)\n",
    "img_w_contour = cv.drawContours(img,[box],0,(0,0,255),2)\n",
    "plt.imshow(img_w_contour)\n",
    "plt.show()"
   ]
  },
  {
   "cell_type": "code",
   "execution_count": null,
   "id": "micro-cigarette",
   "metadata": {},
   "outputs": [],
   "source": []
  }
 ],
 "metadata": {
  "kernelspec": {
   "display_name": "Python 3",
   "language": "python",
   "name": "python3"
  },
  "language_info": {
   "codemirror_mode": {
    "name": "ipython",
    "version": 3
   },
   "file_extension": ".py",
   "mimetype": "text/x-python",
   "name": "python",
   "nbconvert_exporter": "python",
   "pygments_lexer": "ipython3",
   "version": "3.8.6"
  }
 },
 "nbformat": 4,
 "nbformat_minor": 5
}
