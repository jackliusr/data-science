{
 "cells": [
  {
   "cell_type": "markdown",
   "id": "united-spare",
   "metadata": {},
   "source": [
    "# OpenCV image clarity evaluation (camera autofocus)\n",
    "\n",
    "https://www.programmersought.com/article/2549148775/"
   ]
  }
 ],
 "metadata": {
  "kernelspec": {
   "display_name": "Python 3",
   "language": "python",
   "name": "python3"
  },
  "language_info": {
   "codemirror_mode": {
    "name": "ipython",
    "version": 3
   },
   "file_extension": ".py",
   "mimetype": "text/x-python",
   "name": "python",
   "nbconvert_exporter": "python",
   "pygments_lexer": "ipython3",
   "version": "3.8.6"
  }
 },
 "nbformat": 4,
 "nbformat_minor": 5
}
